{
 "cells": [
  {
   "cell_type": "markdown",
   "metadata": {},
   "source": [
    "# Fruits into Baskets\n",
    "Given an array of characters where each character represents a fruit tree, you are given two baskets and your goal is to put maximum number of fruits in each basket. The only restriction is that each basket can have only one type of fruit.\n",
    "\n",
    "You can start with any tree, but once you have started you can’t skip a tree. You will pick one fruit from each tree until you cannot, i.e., you will stop when you have to pick from a third fruit type.\n",
    "\n",
    "Write a function to return the maximum number of fruits in both the baskets."
   ]
  },
  {
   "cell_type": "markdown",
   "metadata": {},
   "source": [
    "## Example 1\n",
    "\n",
    "```\n",
    "Input: Fruit = ['A', 'B', 'C', 'A', 'C']\n",
    "Output: 3\n",
    "```\n",
    "\n",
    "Explanation: We can put 2 'C' fruits in one basket, and one 'A' fruit in the other for a subarray of ['C', 'A', 'C']"
   ]
  },
  {
   "cell_type": "markdown",
   "metadata": {},
   "source": [
    "## Example 2\n",
    "\n",
    "```\n",
    "Input: Fruit = ['A', 'B', 'C', 'B', 'B', 'C']\n",
    "Output: 5\n",
    "```\n",
    "\n",
    "Explanation: We can put 3 'B' fruits in one basket, and two 'C' fruits in the other for a subarray of ['C', 'A', 'C']\n",
    "This can be done if we start with the second letter ['B', 'C', 'B', 'B', 'C']"
   ]
  },
  {
   "cell_type": "markdown",
   "metadata": {},
   "source": [
    "### Whiteboard\n",
    "\n",
    "Fruit = [A B C B B C]\n",
    "\n",
    "```\n",
    "for i in fruit\n",
    "    current_max_fruits = 0 \n",
    "    for j in fruit  from j + i to len of fruit\n",
    "        if len of map is 2 and j in is not in map\n",
    "            max(current_max, add all values)\n",
    "        if j is not in map\n",
    "            add j: 1 to map\n",
    "        else\n",
    "            map[j] += 1\n",
    "        \n",
    "        max(current_max, add all values)\n",
    "        \n",
    "\n",
    "{\n",
    "    B: 3\n",
    "    C: 2\n",
    "}\n",
    "\n",
    "\n",
    "\n",
    "return current_max_fruits\n",
    "```\n"
   ]
  },
  {
   "cell_type": "markdown",
   "metadata": {},
   "source": [
    "## Naive Solution"
   ]
  },
  {
   "cell_type": "code",
   "execution_count": 6,
   "metadata": {},
   "outputs": [
    {
     "name": "stdout",
     "output_type": "stream",
     "text": [
      "3\n",
      "5\n"
     ]
    }
   ],
   "source": [
    "def fruit_in_baskets(fruits):\n",
    "    current_max = 0\n",
    "    \n",
    "    for i in range(len(fruits)):\n",
    "        baskets = {}\n",
    "        \n",
    "        for j in range(i, len(fruits)):\n",
    "            if fruits[j] in baskets:\n",
    "                baskets[fruits[j]] += 1\n",
    "            if len(baskets) < 2:\n",
    "                baskets[fruits[j]] = 1\n",
    "                \n",
    "            current_max = max(current_max, sum(baskets.values()))\n",
    "\n",
    "            \n",
    "    return current_max\n",
    "print(fruit_in_baskets(['A', 'B', 'C', 'A', 'C']))\n",
    "print(fruit_in_baskets(['A', 'B', 'C', 'B', 'B', 'C']))\n",
    "\n",
    "# Time Complexity of O(N*2)"
   ]
  },
  {
   "cell_type": "markdown",
   "metadata": {},
   "source": [
    "## Optimal Solution"
   ]
  },
  {
   "cell_type": "code",
   "execution_count": 29,
   "metadata": {},
   "outputs": [
    {
     "name": "stdout",
     "output_type": "stream",
     "text": [
      "2\n",
      "2\n"
     ]
    }
   ],
   "source": [
    "def fruit_in_baskets_better(fruits):\n",
    "    current_max = 0\n",
    "    left = 0\n",
    "    baskets = {}\n",
    "    \n",
    "    for right in range(len(fruits)):\n",
    "        if fruits[right] not in baskets:\n",
    "            baskets[fruits[right]] = 0\n",
    "        if fruits[right] in baskets:\n",
    "            baskets[fruits[right]] += 1\n",
    "            \n",
    "        while len(baskets) > 2:\n",
    "            baskets[fruits[left]] -= 1\n",
    "            \n",
    "            if baskets[fruits[left]] == 0:\n",
    "                del baskets[fruits[left]]\n",
    "            left += 1\n",
    "            \n",
    "        current_max = max(current_max, right - left + 1)\n",
    "                \n",
    "\n",
    "    \n",
    "    return current_max\n",
    "\n",
    "print(fruit_in_baskets_better(['A', 'B', 'C', 'A', 'C']))\n",
    "print(fruit_in_baskets_better(['A', 'B', 'C', 'B', 'B', 'C']))"
   ]
  },
  {
   "cell_type": "markdown",
   "metadata": {},
   "source": [
    "{\n",
    "    A: 0\n",
    "    B: 0\n",
    "    C: 0\n",
    "}"
   ]
  }
 ],
 "metadata": {
  "kernelspec": {
   "display_name": "Python 3",
   "language": "python",
   "name": "python3"
  },
  "language_info": {
   "codemirror_mode": {
    "name": "ipython",
    "version": 3
   },
   "file_extension": ".py",
   "mimetype": "text/x-python",
   "name": "python",
   "nbconvert_exporter": "python",
   "pygments_lexer": "ipython3",
   "version": "3.8.4"
  }
 },
 "nbformat": 4,
 "nbformat_minor": 4
}
