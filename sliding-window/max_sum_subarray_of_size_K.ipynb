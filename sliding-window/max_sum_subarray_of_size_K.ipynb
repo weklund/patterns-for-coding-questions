{
 "cells": [
  {
   "cell_type": "markdown",
   "metadata": {},
   "source": [
    "# Max Sum of Subarray of Size K\n",
    "\n",
    "Given an array of positive numbers and a positive number ‘k’, find the maximum sum of any contiguous subarray of size ‘k’."
   ]
  },
  {
   "cell_type": "markdown",
   "metadata": {},
   "source": [
    "### Example 1\n",
    "```\n",
    "Input: [2, 1, 5, 1, 3, 2], k=3 \n",
    "Output: 9\n",
    "Explanation: Subarray with maximum sum is [5, 1, 3].\n",
    "```"
   ]
  },
  {
   "cell_type": "markdown",
   "metadata": {},
   "source": [
    "### Example 2\n",
    "```\n",
    "Input: [2, 3, 4, 1, 5], k=2 \n",
    "Output: 7\n",
    "Explanation: Subarray with maximum sum is [3, 4].\n",
    "```"
   ]
  },
  {
   "cell_type": "markdown",
   "metadata": {},
   "source": [
    "## Brute Force Solution\n",
    "\n",
    "```\n",
    "2\n",
    " 1\n",
    " 5\n",
    "1\n",
    " 5\n",
    " 1\n",
    "5\n",
    " 1\n",
    " 3\n",
    "1\n",
    " 3\n",
    " 2\n",
    "```"
   ]
  },
  {
   "cell_type": "code",
   "execution_count": 15,
   "metadata": {},
   "outputs": [
    {
     "name": "stdout",
     "output_type": "stream",
     "text": [
      "7\n"
     ]
    }
   ],
   "source": [
    "def max_sum_of_subarray_of_size_k(K, arr):\n",
    "    biggest_sum = 0\n",
    "    for i in range(len(arr) - K):\n",
    "        _sum = 0\n",
    "        for j in range(i, i + K):\n",
    "            _sum += arr[j]\n",
    "        biggest_sum = max(biggest_sum, _sum)\n",
    "    return biggest_sum\n",
    "    \n",
    "print(max_sum_of_subarray_of_size_k(2, [2, 3, 4, 1, 5]))\n",
    "\n",
    "# Big O(N * K)"
   ]
  },
  {
   "cell_type": "markdown",
   "metadata": {},
   "source": [
    "## More Optimal Solution\n",
    "\n"
   ]
  },
  {
   "cell_type": "code",
   "execution_count": 17,
   "metadata": {},
   "outputs": [
    {
     "name": "stdout",
     "output_type": "stream",
     "text": [
      "9\n"
     ]
    }
   ],
   "source": [
    "def max_sum_of_subarray_of_size_k_new(K, arr):\n",
    "    max_sum = 0\n",
    "    window_sum = 0\n",
    "    window_start_location = 0\n",
    "    \n",
    "    for window_end_location in range(len(arr)):\n",
    "        window_sum += arr[window_start_location]\n",
    "        \n",
    "        if window_end_location >= K-1:\n",
    "            max_sum = max(max_sum, window_sum)\n",
    "            window_sum -= arr[window_start_location]\n",
    "            window_start_location += 1\n",
    "\n",
    "    return max_sum\n",
    "            \n",
    "print(max_sum_of_subarray_of_size_k_new(3, [2, 1, 5, 1, 3, 2]))\n",
    "\n",
    "# Big O(N)"
   ]
  }
 ],
 "metadata": {
  "kernelspec": {
   "display_name": "Python 3",
   "language": "python",
   "name": "python3"
  },
  "language_info": {
   "codemirror_mode": {
    "name": "ipython",
    "version": 3
   },
   "file_extension": ".py",
   "mimetype": "text/x-python",
   "name": "python",
   "nbconvert_exporter": "python",
   "pygments_lexer": "ipython3",
   "version": "3.8.4"
  }
 },
 "nbformat": 4,
 "nbformat_minor": 4
}
