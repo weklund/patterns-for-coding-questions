{
 "cells": [
  {
   "cell_type": "markdown",
   "metadata": {},
   "source": [
    "# The Sliding Window Pattern\n",
    "\n",
    "\n",
    "This pattern can be useful when there are common elements across computations of subarrays\n",
    "\n",
    "### Example\n",
    "\n",
    "Let's say we have an array:\n",
    "\n",
    "```\n",
    "[1, 2, 3, 4, 5, 6, 7, 8, 9]\n",
    "```\n",
    "\n",
    "And we want to calculate the average contigiously across 5 elements (K = 5)\n",
    "\n",
    "```\n",
    "1 + 2 + 3 + 4 + 5 -> 15 / 5 = 3\n",
    "2 + 3 + 4 + 5 + 6 -> 20 / 5 = 4\n",
    "3 + 4 + 5 + 6 + 7 -> 25 / 5 = 5\n",
    "4 + 5 + 6 + 7 + 8 -> 30 / 5 = 6\n",
    "5 + 6 + 7 + 8 + 9 -> 35 / 5 = 7\n",
    "```\n",
    "\n",
    "output array:\n",
    "\n",
    "```\n",
    "[3, 4, 5, 6, 7]\n",
    "```\n",
    "\n",
    "\n",
    "\n",
    "The naive approach would to calculate the sum of every 5th element of the given subarray and divide by 5\n",
    "\n",
    "That gives us a time complexity of O(N * K)\n"
   ]
  },
  {
   "cell_type": "markdown",
   "metadata": {},
   "source": [
    "## Brute Force Approach"
   ]
  },
  {
   "cell_type": "code",
   "execution_count": 21,
   "metadata": {},
   "outputs": [],
   "source": [
    "def find_averages_of_subarray(K, arr):\n",
    "    averages = []\n",
    "\n",
    "    for i in range(K):\n",
    "        _sum = 0\n",
    "        for j in range(i, K + i):\n",
    "            _sum += arr[j]\n",
    "        averages.append(_sum / K)\n",
    "    return averages\n",
    "        \n",
    "\n",
    "    "
   ]
  },
  {
   "cell_type": "code",
   "execution_count": 22,
   "metadata": {},
   "outputs": [
    {
     "name": "stdout",
     "output_type": "stream",
     "text": [
      "[3.0, 4.0, 5.0, 6.0, 7.0]\n"
     ]
    }
   ],
   "source": [
    "print(find_averages_of_subarray(5, [1, 2, 3, 4, 5, 6, 7, 8, 9]))"
   ]
  },
  {
   "cell_type": "markdown",
   "metadata": {},
   "source": [
    "## A Better Approach"
   ]
  },
  {
   "cell_type": "markdown",
   "metadata": {},
   "source": [
    "If you notice during the computation, there are iterations where the summing of elements have overlapping digits\n",
    "\n",
    "```\n",
    "1 + 2 + 3 + 4 + 5\n",
    "2 + 3 + 4 + 5 + 6\n",
    "```\n",
    "\n",
    "They all share the summing of [2 + 3 + 4 + 5]\n",
    "\n",
    "#### Can we use this sum shared across subarrays?\n",
    "\n"
   ]
  },
  {
   "cell_type": "markdown",
   "metadata": {},
   "source": [
    "## YES\n",
    "\n",
    "\n",
    "\n",
    "If we can think of the common summation of elements as a sliding window, we just keep track of the sum, and when we move the window by one element, we add that to the sum, and subtract the first index on the subarray.\n",
    "\n",
    "This will give us a time complexity of O(N)"
   ]
  },
  {
   "cell_type": "code",
   "execution_count": 25,
   "metadata": {},
   "outputs": [],
   "source": [
    "# NOTE:  What this implementation is doing is first growing the window from 0 to the window size of K, \n",
    "#        THEN sliding the window over\n",
    "\n",
    "def find_averages_subarray_new(K, arr):\n",
    "    averages = []\n",
    "    window_sum = 0.0\n",
    "    window_start_location = 0\n",
    "    \n",
    "    for window_end_location in range(len(arr)):\n",
    "        window_sum += arr[window_end_location]\n",
    "        \n",
    "        #Until it's larger than K - 1, we are GROWING the window and summing until we need to start sliding it\n",
    "        if window_end_location >= K - 1:\n",
    "            averages.append(window_sum / K)\n",
    "            window_sum -= arr[window_start_location] # take off the element coming out\n",
    "            window_start_location += 1\n",
    "            \n",
    "    return averages\n",
    "        "
   ]
  },
  {
   "cell_type": "code",
   "execution_count": 26,
   "metadata": {},
   "outputs": [
    {
     "name": "stdout",
     "output_type": "stream",
     "text": [
      "[3.0, 4.0, 5.0, 6.0, 7.0]\n"
     ]
    }
   ],
   "source": [
    "print(find_averages_of_subarray(5, [1, 2, 3, 4, 5, 6, 7, 8, 9]))"
   ]
  }
 ],
 "metadata": {
  "kernelspec": {
   "display_name": "Python 3",
   "language": "python",
   "name": "python3"
  },
  "language_info": {
   "codemirror_mode": {
    "name": "ipython",
    "version": 3
   },
   "file_extension": ".py",
   "mimetype": "text/x-python",
   "name": "python",
   "nbconvert_exporter": "python",
   "pygments_lexer": "ipython3",
   "version": "3.8.4"
  }
 },
 "nbformat": 4,
 "nbformat_minor": 4
}
