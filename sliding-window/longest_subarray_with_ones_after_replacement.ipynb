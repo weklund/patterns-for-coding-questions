{
 "cells": [
  {
   "cell_type": "markdown",
   "metadata": {},
   "source": [
    "# Longest subarray with ones after replacement\n",
    "\n",
    "Given an array containing 0s and 1s, if you are allowed to replace no more than ‘k’ 0s with 1s, find the length of the longest contiguous subarray having all 1s."
   ]
  },
  {
   "cell_type": "markdown",
   "metadata": {},
   "source": [
    "## Example 1\n",
    "\n",
    "```\n",
    "Input: Array=[0, 1, 1, 0, 0, 0, 1, 1, 0, 1, 1], k=2\n",
    "Output: 6\n",
    "Explanation: Replace the '0' at index 5 and 8 to have the longest contiguous subarray of 1s having length 6.\n",
    "```"
   ]
  },
  {
   "cell_type": "markdown",
   "metadata": {},
   "source": [
    "## Example 2\n",
    "\n",
    "```\n",
    "Input: Array=[0, 1, 0, 0, 1, 1, 0, 1, 1, 0, 0, 1, 1], k=3\n",
    "Output: 9\n",
    "Explanation: Replace the '0' at index 6, 9, and 10 to have the longest contiguous subarray of 1s having length 9.\n",
    "```"
   ]
  },
  {
   "cell_type": "markdown",
   "metadata": {},
   "source": [
    "## Naive Solution\n",
    "\n",
    "```\n",
    "[0, 1, 1, 0, 0, 0, 1, 1, 0, 1, 1]\n",
    "\n",
    "0\n",
    "|\n",
    "1 1 0\n",
    "\n",
    "given_array = 0 1 1 0\n",
    "resulting_array = 1 1 1 1\n",
    "\n",
    "if k > 1, keep going after the o\n",
    "then loop\n",
    "once k is zero, max the distance over current_max\n",
    "_________\n",
    "\n",
    "start at index 4\n",
    "0\n",
    "|\n",
    "\n",
    "\n",
    "```"
   ]
  },
  {
   "cell_type": "code",
   "execution_count": 1,
   "metadata": {},
   "outputs": [
    {
     "name": "stdout",
     "output_type": "stream",
     "text": [
      "0\n",
      "0\n"
     ]
    }
   ],
   "source": [
    "def longest_subarray_with_ones(arr, k):\n",
    "    return 0\n",
    "\n",
    "print(longest_subarray_with_ones([0, 1, 1, 0, 0, 0, 1, 1, 0, 1, 1], 2))\n",
    "print(longest_subarray_with_ones([0, 1, 0, 0, 1, 1, 0, 1, 1, 0, 0, 1, 1], 3))"
   ]
  }
 ],
 "metadata": {
  "kernelspec": {
   "display_name": "Python 3",
   "language": "python",
   "name": "python3"
  },
  "language_info": {
   "codemirror_mode": {
    "name": "ipython",
    "version": 3
   },
   "file_extension": ".py",
   "mimetype": "text/x-python",
   "name": "python",
   "nbconvert_exporter": "python",
   "pygments_lexer": "ipython3",
   "version": "3.8.4"
  }
 },
 "nbformat": 4,
 "nbformat_minor": 4
}
