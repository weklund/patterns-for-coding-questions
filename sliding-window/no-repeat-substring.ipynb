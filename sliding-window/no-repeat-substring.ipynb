{
 "cells": [
  {
   "cell_type": "markdown",
   "metadata": {},
   "source": [
    "# No Repeat Substring\n",
    "\n",
    "Given a string, find the length of the longest substring which has no repeating characters."
   ]
  },
  {
   "cell_type": "markdown",
   "metadata": {},
   "source": [
    "## Example 1\n",
    "```\n",
    "Input: String=\"aabccbb\"\n",
    "Output: 3\n",
    "Explanation: The longest substring without any repeating characters is \"abc\".\n",
    "```"
   ]
  },
  {
   "cell_type": "markdown",
   "metadata": {},
   "source": [
    "## Example 2\n",
    "\n",
    "```\n",
    "Input: String=\"abbbb\"\n",
    "Output: 2\n",
    "Explanation: The longest substring without any repeating characters is \"ab\".\n",
    "```"
   ]
  },
  {
   "cell_type": "markdown",
   "metadata": {},
   "source": [
    "## Example 3\n",
    "\n",
    "```\n",
    "Input: String=\"abccde\"\n",
    "Output: 3\n",
    "Explanation: Longest substrings without any repeating characters are \"abc\" & \"cde\".\n",
    "```"
   ]
  },
  {
   "cell_type": "markdown",
   "metadata": {},
   "source": [
    "## Naive Solution"
   ]
  },
  {
   "cell_type": "markdown",
   "metadata": {},
   "source": [
    "```\n",
    "a\n",
    "|\n",
    "a b c c b b\n",
    "____\n",
    "\n",
    "a\n",
    "|\n",
    "b c c b b \n",
    "\n",
    "\n",
    "pseudocode:\n",
    "for i in range of arr\n",
    "\n",
    " for j in range of arr\n",
    "   if arr[j] is not in set\n",
    "       add arr[j] to set\n",
    "   else\n",
    "       current_max = max(current_max, j - i)\n",
    "```     "
   ]
  },
  {
   "cell_type": "code",
   "execution_count": null,
   "metadata": {},
   "outputs": [],
   "source": []
  },
  {
   "cell_type": "code",
   "execution_count": 15,
   "metadata": {},
   "outputs": [
    {
     "name": "stdout",
     "output_type": "stream",
     "text": [
      "3\n",
      "2\n",
      "3\n"
     ]
    }
   ],
   "source": [
    "def longest_substring_without_repeating_chars(arr):\n",
    "    current_max = 0\n",
    "    for i in range(len(arr)):\n",
    "        unique_chars = {}\n",
    "        for j in range(i, len(arr)):\n",
    "            if arr[j] not in unique_chars:\n",
    "                unique_chars[arr[j]] = 0\n",
    "            else:\n",
    "                current_max = max(current_max, j - i)\n",
    "                break\n",
    "    return current_max\n",
    "\n",
    "print(longest_substring_without_repeating_chars(\"aabccbb\"))\n",
    "print(longest_substring_without_repeating_chars(\"abbbb\"))\n",
    "print(longest_substring_without_repeating_chars(\"abccde\"))\n",
    "\n",
    "# time complexity of O(N*2)"
   ]
  },
  {
   "cell_type": "markdown",
   "metadata": {},
   "source": [
    "## Optimal Solution"
   ]
  },
  {
   "cell_type": "markdown",
   "metadata": {},
   "source": [
    "```\n",
    "This problem follows the Sliding Window pattern and we can use a similar dynamic sliding window strategy as discussed in Longest Substring with K Distinct Characters. We can use a HashMap to remember the last index of each character we have processed. Whenever we get a repeating character we will shrink our sliding window to ensure that we always have distinct characters in the sliding window.\n",
    "\n",
    "```"
   ]
  },
  {
   "cell_type": "code",
   "execution_count": null,
   "metadata": {},
   "outputs": [],
   "source": [
    "[ a a b c c b b ]\n",
    "\n",
    "[a] a b c c b b\n",
    "(move right)\n",
    "[a a] b c c c b b \n",
    "(char exists)\n",
    "(get length)\n",
    "(max against current max)\n",
    "(move left)\n",
    "a [a] b c c b b \n",
    "(move right)\n",
    "a [a b] c c b b\n",
    "a [a b c] c b b \n",
    "a [a b c c] b b\n",
    "a a [b c] c\n",
    "a a [b c]"
   ]
  },
  {
   "cell_type": "code",
   "execution_count": 25,
   "metadata": {},
   "outputs": [
    {
     "name": "stdout",
     "output_type": "stream",
     "text": [
      "3\n",
      "2\n",
      "3\n"
     ]
    }
   ],
   "source": [
    "def longest_substring_without_repeating_chars_better(arr):\n",
    "    left = 0\n",
    "    current_max = 0\n",
    "    unique_chars = set()\n",
    "    \n",
    "    for right, item in enumerate(arr):\n",
    "        if item in unique_chars:\n",
    "            current_max = max(current_max, len(set(arr[left:right])))\n",
    "            left += 1\n",
    "        else:\n",
    "            unique_chars.add(item)\n",
    "            \n",
    "    return current_max\n",
    "        \n",
    "        \n",
    "\n",
    "print(longest_substring_without_repeating_chars_better(\"aabccbb\"))\n",
    "print(longest_substring_without_repeating_chars_better(\"abbbb\"))\n",
    "print(longest_substring_without_repeating_chars_better(\"abccde\"))\n",
    "\n",
    "# Time Complexity O(N)"
   ]
  }
 ],
 "metadata": {
  "kernelspec": {
   "display_name": "Python 3",
   "language": "python",
   "name": "python3"
  },
  "language_info": {
   "codemirror_mode": {
    "name": "ipython",
    "version": 3
   },
   "file_extension": ".py",
   "mimetype": "text/x-python",
   "name": "python",
   "nbconvert_exporter": "python",
   "pygments_lexer": "ipython3",
   "version": "3.8.4"
  }
 },
 "nbformat": 4,
 "nbformat_minor": 4
}
