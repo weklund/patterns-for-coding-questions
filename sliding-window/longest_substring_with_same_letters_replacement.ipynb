{
 "cells": [
  {
   "cell_type": "markdown",
   "metadata": {},
   "source": [
    "# Longest Substring with Same Letters Replacement\n",
    "\n",
    "Given a string with lowercase letters only, if you are allowed to replace no more than ‘k’ letters with any letter, find the length of the longest substring having the same letters after replacement.\n",
    "\n"
   ]
  },
  {
   "cell_type": "markdown",
   "metadata": {},
   "source": [
    "## Example 1\n",
    "\n",
    "```\n",
    "Input: String=\"aabccbb\", k=2\n",
    "Output: 5\n",
    "Explanation: Replace the two 'c' with 'b' to have a longest repeating substring \"bbbbb\".\n",
    "```"
   ]
  },
  {
   "cell_type": "markdown",
   "metadata": {},
   "source": [
    "## Example 2\n",
    "\n",
    "```\n",
    "Input: String=\"abbcb\", k=1\n",
    "Output: 4\n",
    "Explanation: Replace the 'c' with 'b' to have a longest repeating substring \"bbbb\".\n",
    "```"
   ]
  },
  {
   "cell_type": "markdown",
   "metadata": {},
   "source": [
    "## Example 3\n",
    "\n",
    "```\n",
    "Input: String=\"abccde\", k=1\n",
    "Output: 3\n",
    "Explanation: Replace the 'b' or 'd' with 'c' to have the longest repeating substring \"ccc\".\n",
    "```"
   ]
  },
  {
   "cell_type": "markdown",
   "metadata": {},
   "source": [
    "## Naive Solution\n",
    "\n",
    "```\n",
    "[ a a b c c b b ]\n",
    "k = 1\n",
    "\n",
    "create a map of instances of a unique char\n",
    "{\n",
    "    'b': 3,\n",
    "    'a': 2,\n",
    "    'c': 2\n",
    "}\n",
    "\n",
    "subarray[2:6]\n",
    "[0 0 b 0 0 b b]\n",
    "chars that aren't in b within subarray: 3\n",
    "k is 2\n",
    "\n",
    "get index of first encounter\n",
    "get index of last encounter\n",
    "\n",
    "[ a a b c c c b b ]\n",
    "distance = 6\n",
    "k = 2\n",
    "\n",
    "\n",
    "if occurance_distance == k + occurance_count\n",
    "    return occurance_distance\n",
    "    \n",
    "if occurance_distance == occurance_count\n",
    "    return (occurance_distance + k) <= len(input) ? (occurance_distance + k) : len(input)\n",
    "\n",
    "for i in range(len(input[start:end]))\n",
    "    if k > 0 and input[i] != candidate_char:\n",
    "        input[i] = candidate_char\n",
    "        k -= 1\n",
    "        \n",
    "    \n",
    "\n",
    "check if number of chars between the candidate subarray that aren't the x char, and is equal to k,\n",
    "then output the full length + k\n",
    "\n",
    "if no non-x chars inside the candidate subarray, then swap either index of first occurance - 1 or index of last occurance + 1\n",
    "then output the subarray + 1\n",
    "\n",
    "```"
   ]
  },
  {
   "cell_type": "code",
   "execution_count": 13,
   "metadata": {},
   "outputs": [
    {
     "name": "stdout",
     "output_type": "stream",
     "text": [
      "5\n",
      "4\n",
      "3\n"
     ]
    }
   ],
   "source": [
    "def length_of_longest_substring(str, k):\n",
    "    unique_chars = {}\n",
    "    \n",
    "    max_occurance_distance = 0\n",
    "    max_occurance_count = 0\n",
    "    max_char = ''\n",
    "    \n",
    "    for index, char in enumerate(str):\n",
    "        if char not in unique_chars:\n",
    "            unique_chars[char] = 1\n",
    "        else:\n",
    "            unique_chars[char] += 1\n",
    "\n",
    "    \n",
    "    for index, (key, value) in enumerate(unique_chars.items()):\n",
    "        if value > max_occurance_count:\n",
    "            max_occurance_count = value\n",
    "            max_char = key\n",
    "    \n",
    "    first_occurance_index = str.find(max_char)\n",
    "    last_occurance_index = str.rfind(max_char)\n",
    "    \n",
    "    distance = last_occurance_index - first_occurance_index + 1\n",
    "    \n",
    "    if distance == k + max_occurance_count:\n",
    "        return distance\n",
    "    \n",
    "    if distance == max_occurance_count:\n",
    "        return distance + k if (distance + k <= len(str)) else len(str)\n",
    "    \n",
    "\n",
    "print(length_of_longest_substring(\"aabccbb\", 2))\n",
    "print(length_of_longest_substring(\"abbcb\", 1))\n",
    "print(length_of_longest_substring(\"abccde\", 1))\n",
    "\n",
    "# Time complexity of O(N)"
   ]
  }
 ],
 "metadata": {
  "kernelspec": {
   "display_name": "Python 3",
   "language": "python",
   "name": "python3"
  },
  "language_info": {
   "codemirror_mode": {
    "name": "ipython",
    "version": 3
   },
   "file_extension": ".py",
   "mimetype": "text/x-python",
   "name": "python",
   "nbconvert_exporter": "python",
   "pygments_lexer": "ipython3",
   "version": "3.8.4"
  }
 },
 "nbformat": 4,
 "nbformat_minor": 4
}
