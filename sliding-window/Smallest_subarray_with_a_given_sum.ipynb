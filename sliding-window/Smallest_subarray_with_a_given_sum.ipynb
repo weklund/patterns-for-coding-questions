{
 "cells": [
  {
   "cell_type": "markdown",
   "metadata": {},
   "source": [
    "# Smallest Subarray With A Given Sum\n",
    "\n",
    "Given an array of positive numbers and a positive number ‘S’, find the length of the smallest contiguous subarray whose sum is greater than or equal to ‘S’. Return 0, if no such subarray exists."
   ]
  },
  {
   "cell_type": "code",
   "execution_count": 23,
   "metadata": {},
   "outputs": [
    {
     "name": "stdout",
     "output_type": "stream",
     "text": [
      "2\n",
      "1\n",
      "3\n"
     ]
    }
   ],
   "source": [
    "#2 1 5 2 8 \n",
    "\n",
    "# valid_subarrays = [[2 1 5]]\n",
    "\n",
    "\n",
    "def smallest_subarray_with_given_sum(S, arr):\n",
    "    valid_subarrays = []\n",
    "    for i in range(len(arr)):\n",
    "        subarray_sum = 0\n",
    "        for j in range(i, len(arr)):\n",
    "            subarray_sum += arr[j]\n",
    "            if subarray_sum >= S:\n",
    "                valid_subarrays.append(arr[i:j+1])\n",
    "                continue\n",
    "    valid_subarrays.sort(key=len)\n",
    "    return len(valid_subarrays[0])\n",
    "    \n",
    "    \n",
    "print(smallest_subarray_with_given_sum(7, [2, 1, 5, 2, 3, 2]))\n",
    "print(smallest_subarray_with_given_sum(7, [2, 1, 5, 2, 8]))\n",
    "print(smallest_subarray_with_given_sum(8, [3, 4, 1, 1, 6]))"
   ]
  }
 ],
 "metadata": {
  "kernelspec": {
   "display_name": "Python 3",
   "language": "python",
   "name": "python3"
  },
  "language_info": {
   "codemirror_mode": {
    "name": "ipython",
    "version": 3
   },
   "file_extension": ".py",
   "mimetype": "text/x-python",
   "name": "python",
   "nbconvert_exporter": "python",
   "pygments_lexer": "ipython3",
   "version": "3.8.4"
  }
 },
 "nbformat": 4,
 "nbformat_minor": 4
}
