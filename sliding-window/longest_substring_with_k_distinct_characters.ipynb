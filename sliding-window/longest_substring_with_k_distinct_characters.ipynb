{
 "cells": [
  {
   "cell_type": "markdown",
   "metadata": {},
   "source": [
    "# Longest Substring with K Distinct Characters\n",
    "Given a string, find the length of the longest substring in it with no more than K distinct characters."
   ]
  },
  {
   "cell_type": "markdown",
   "metadata": {},
   "source": [
    "## Example 1\n",
    "\n",
    "```\n",
    "arr = [a r a a c i]\n",
    "k = 2\n",
    "```\n",
    "\n",
    "output = 4 because `araa` is the largest subarray with only 2 distinct characters"
   ]
  },
  {
   "cell_type": "markdown",
   "metadata": {},
   "source": [
    "## Example 2\n",
    "\n",
    "```\n",
    "arr = [c b b e b i]\n",
    "k = 3\n",
    "```\n",
    "\n",
    "output = 5 because `cbbeb` and `bbebi` are the largest subarray with only 3 distinct characters"
   ]
  },
  {
   "cell_type": "code",
   "execution_count": null,
   "metadata": {},
   "outputs": [],
   "source": [
    "# [a r a a c i]\n",
    "# k = 2\n",
    "[a r a a]\n",
    "unique_count"
   ]
  },
  {
   "cell_type": "markdown",
   "metadata": {},
   "source": [
    "## Naive Solution"
   ]
  },
  {
   "cell_type": "code",
   "execution_count": 32,
   "metadata": {},
   "outputs": [
    {
     "name": "stdout",
     "output_type": "stream",
     "text": [
      "4\n",
      "2\n",
      "5\n"
     ]
    }
   ],
   "source": [
    "def longest_substring_with_k_distinct_chars(str, k):\n",
    "    valid_substrings = []\n",
    "    \n",
    "    for i in range(len(str)):\n",
    "        current_substring = ''\n",
    "        unique_count = 0\n",
    "        for j in range(i, len(str)):\n",
    "            if str[j] not in current_substring:\n",
    "                unique_count += 1\n",
    "            if unique_count > k:\n",
    "                valid_substrings.append(current_substring)\n",
    "                break\n",
    "            current_substring += str[j]\n",
    "            \n",
    "    valid_substrings.sort(key=len)\n",
    "    return len(valid_substrings[-1])\n",
    "\n",
    "            \n",
    "\n",
    "print(longest_substring_with_k_distinct_chars(\"araaci\", 2))\n",
    "print(longest_substring_with_k_distinct_chars(\"araaci\", 1))\n",
    "print(longest_substring_with_k_distinct_chars(\"cbbebi\", 3))"
   ]
  },
  {
   "cell_type": "markdown",
   "metadata": {},
   "source": [
    "## Optimal Solution"
   ]
  },
  {
   "cell_type": "markdown",
   "metadata": {},
   "source": []
  },
  {
   "cell_type": "code",
   "execution_count": 45,
   "metadata": {},
   "outputs": [
    {
     "name": "stdout",
     "output_type": "stream",
     "text": [
      "4\n",
      "2\n",
      "5\n"
     ]
    }
   ],
   "source": [
    "# [a r a a c i]\n",
    "# k = 2\n",
    "# [a r a a]\n",
    "\n",
    "def longest_substring_with_k_distinct_chars_better(str, k):\n",
    "    left = 0\n",
    "    current_max_length = 0\n",
    "    \n",
    "    for right in range(len(str) + 1):\n",
    "        if len(set(str[left:right])) > k:\n",
    "            current_max_length = max(current_max_length, right - left - 1)\n",
    "            left += 1\n",
    "            \n",
    "    return current_max_length\n",
    "            \n",
    "        \n",
    "print(longest_substring_with_k_distinct_chars_better(\"araaci\", 2))\n",
    "print(longest_substring_with_k_distinct_chars_better(\"araaci\", 1))\n",
    "print(longest_substring_with_k_distinct_chars_better(\"cbbebi\", 3))\n",
    "\n",
    "# time complexity of O(N)"
   ]
  },
  {
   "cell_type": "code",
   "execution_count": null,
   "metadata": {},
   "outputs": [],
   "source": []
  }
 ],
 "metadata": {
  "kernelspec": {
   "display_name": "Python 3",
   "language": "python",
   "name": "python3"
  },
  "language_info": {
   "codemirror_mode": {
    "name": "ipython",
    "version": 3
   },
   "file_extension": ".py",
   "mimetype": "text/x-python",
   "name": "python",
   "nbconvert_exporter": "python",
   "pygments_lexer": "ipython3",
   "version": "3.8.4"
  }
 },
 "nbformat": 4,
 "nbformat_minor": 4
}
