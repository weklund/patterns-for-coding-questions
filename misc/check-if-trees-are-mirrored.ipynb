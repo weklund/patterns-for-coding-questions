{
 "cells": [
  {
   "cell_type": "markdown",
   "metadata": {},
   "source": [
    "# Check if trees are mirrored\n",
    "\n",
    "Given two binary trees, return true if they are mirror images of each other, and return false if they are not.\n",
    "\n",
    "ex:\n",
    "```\n",
    "     a              a\n",
    "  b    c         c      b\n",
    "d  e  f  g     g   f   e   d\n",
    "```"
   ]
  },
  {
   "cell_type": "code",
   "execution_count": 38,
   "metadata": {},
   "outputs": [],
   "source": [
    "class Node:\n",
    "    def __init__(self, value):\n",
    "        self.left = None\n",
    "        self.right = None\n",
    "        self.value = value"
   ]
  },
  {
   "cell_type": "code",
   "execution_count": 56,
   "metadata": {},
   "outputs": [],
   "source": [
    "def isMirror(a, b):\n",
    "    if (a.left == None and b.right == None) and (a.right == None and b.left == None):\n",
    "        return True\n",
    "    elif a.value != b.value:\n",
    "        return False\n",
    "    else:\n",
    "        return isMirror(a.left, b.right) and isMirror(a.right, b.left)"
   ]
  },
  {
   "cell_type": "markdown",
   "metadata": {},
   "source": [
    "```\n",
    "     a              \n",
    "  b    c      \n",
    "d  e  f  g     \n",
    "```"
   ]
  },
  {
   "cell_type": "code",
   "execution_count": 57,
   "metadata": {},
   "outputs": [],
   "source": [
    "a = Node('A')\n",
    "\n",
    "a.left = Node('B')\n",
    "a.right = Node('C')\n",
    "\n",
    "a.left.left = Node('D')\n",
    "a.left.right = Node('E')\n",
    "\n",
    "a.right.left = Node('F')\n",
    "a.right.right = Node('G')"
   ]
  },
  {
   "cell_type": "markdown",
   "metadata": {},
   "source": [
    "```\n",
    "          a\n",
    "       c      b\n",
    "     g   f   e   d\n",
    "```"
   ]
  },
  {
   "cell_type": "code",
   "execution_count": 58,
   "metadata": {},
   "outputs": [],
   "source": [
    "b = Node('A')\n",
    "\n",
    "b.left = Node('C')\n",
    "b.right = Node('B')\n",
    "\n",
    "b.left.left = Node('G')\n",
    "b.left.right = Node('F')\n",
    "\n",
    "b.right.left = Node('E')\n",
    "b.right.right = Node('D')"
   ]
  },
  {
   "cell_type": "code",
   "execution_count": 59,
   "metadata": {},
   "outputs": [
    {
     "name": "stdout",
     "output_type": "stream",
     "text": [
      "True\n"
     ]
    }
   ],
   "source": [
    "if isMirror(a, b):\n",
    "    print('True')\n",
    "else:\n",
    "    print('False')"
   ]
  }
 ],
 "metadata": {
  "kernelspec": {
   "display_name": "Python 3",
   "language": "python",
   "name": "python3"
  },
  "language_info": {
   "codemirror_mode": {
    "name": "ipython",
    "version": 3
   },
   "file_extension": ".py",
   "mimetype": "text/x-python",
   "name": "python",
   "nbconvert_exporter": "python",
   "pygments_lexer": "ipython3",
   "version": "3.8.4"
  }
 },
 "nbformat": 4,
 "nbformat_minor": 4
}
