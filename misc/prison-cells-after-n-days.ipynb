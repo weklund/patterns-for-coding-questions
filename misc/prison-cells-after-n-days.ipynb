{
 "cells": [
  {
   "cell_type": "markdown",
   "metadata": {},
   "source": [
    "# Prison Cells After N Days\n",
    "\n",
    "There are 8 prison cells in a row, and each cell is either occupied or vacant.\n",
    "\n",
    "Each day, whether the cell is occupied or vacant changes according to the following rules:\n",
    "\n",
    "If a cell has two adjacent neighbors that are both occupied or both vacant, then the cell becomes occupied.\n",
    "Otherwise, it becomes vacant.\n",
    "(Note that because the prison is a row, the first and the last cells in the row can't have two adjacent neighbors.)\n",
    "\n",
    "We describe the current state of the prison in the following way: cells[i] == 1 if the i-th cell is occupied, else cells[i] == 0.\n",
    "\n",
    "Given the initial state of the prison, return the state of the prison after N days (and N such changes described above.)"
   ]
  },
  {
   "cell_type": "markdown",
   "metadata": {},
   "source": [
    "## Example 1\n",
    "\n",
    "\n",
    "\n",
    "```\n",
    "N = 7\n",
    "Input = [ 0, 1, 0, 1,  1, 0, 0, 1 ] \n",
    "\n",
    "\n",
    "Day 0: [ 0, 1, 0, 1,  1, 0, 0, 1 ]\n",
    "Day 1: [ 0, 1, 1, 0,  0, 0, 0, 0 ]\n",
    "Day 2: [ 0, 0, 0, 0,  1, 1, 1, 0 ]\n",
    "Day 3: [ 0, 1, 1, 0,  0, 1, 0, 0 ]\n",
    "Day 4: [ 0, 0, 0, 0,  0, 1, 0, 0 ]\n",
    "Day 5: [ 0, 1, 1, 1,  0, 1, 0, 0 ]\n",
    "Day 6: [ 0, 0, 1, 0,  1, 1, 0, 0 ]\n",
    "Day 7: [ 0, 0, 1, 1,  0, 0, 0, 0 ]\n",
    "\n",
    "Day 8: [ 0, 0, 0, 0,  0, 1, 1, 0 ] \n",
    "Day 9: [ 0, 1, 1, 1,  0, 0, 0, 0 ]\n",
    "Day 10:[ 0, 0, 1, 0,  0, 1, 1, 0 ]\n",
    "Day 11:[ 0, 0, 1, 0,  0, 0, 0, 0 ]\n",
    "Day 12:[ 0, 0, 1, 0,  1, 1, 1, 0 ]\n",
    "Day 13:[ 0, 0, 1, 1,  0, 1, 0, 0 ]\n",
    "Day 14:[ 0, 0, 0, 0,  1, 1, 0, 0 ]\n",
    "Day 15:[ 0, 1, 1, 0,  0, 0, 0, 0 ]\n",
    "Day 16:[ 0, 0, 0, 0,  1, 1, 1, 0 ]\n",
    "\n",
    "\n",
    "Output: [ 0, 0, 1, 1, 0 , 0, 0, 0 ]\n",
    "```\n",
    "\n"
   ]
  },
  {
   "cell_type": "code",
   "execution_count": null,
   "metadata": {},
   "outputs": [],
   "source": []
  },
  {
   "cell_type": "markdown",
   "metadata": {},
   "source": [
    "## Naive Solution"
   ]
  },
  {
   "cell_type": "markdown",
   "metadata": {},
   "source": [
    "psuedocode \n",
    "\n",
    "```\n",
    "loop from 0 to N as i:\n",
    " loop from 1 to 6 as j: (only indices we care about)\n",
    "    if cells[j - 1] == cells[j + 1]:\n",
    "      next_day[j] = 1\n",
    "    else:\n",
    "      next_day[j] = 0\n",
    " if i == 0:\n",
    "     next_day[0] = 0\n",
    "     next_day[7] = 0\n",
    " cells = next_day.copy()\n",
    "```"
   ]
  },
  {
   "cell_type": "code",
   "execution_count": 18,
   "metadata": {},
   "outputs": [],
   "source": [
    "def prisonAfterNDays(cells, N):\n",
    "    next_day = cells.copy()\n",
    "    \n",
    "    for i in range(N):\n",
    "        for j in range(1, 7):\n",
    "            if cells[j - 1] == cells[j + 1]:\n",
    "                next_day[j] = 1\n",
    "            else:\n",
    "                next_day[j] = 0\n",
    "        if i == 0:\n",
    "            next_day[0] = 0\n",
    "            next_day[7] = 0\n",
    "        cells = next_day.copy()\n",
    "        \n",
    "    return cells"
   ]
  },
  {
   "cell_type": "code",
   "execution_count": 20,
   "metadata": {},
   "outputs": [
    {
     "name": "stdout",
     "output_type": "stream",
     "text": [
      "[0, 0, 1, 1, 0, 0, 0, 0]\n",
      "[0, 0, 1, 1, 1, 1, 1, 0]\n"
     ]
    }
   ],
   "source": [
    "print(prisonAfterNDays([0,1,0,1,1,0,0,1], 7))\n",
    "print(prisonAfterNDays([1,0,0,1,0,0,1,0], 1000000000))"
   ]
  },
  {
   "cell_type": "markdown",
   "metadata": {},
   "source": [
    "## Optimal Solution\n",
    "\n",
    "Theory:  Since there's a pattern every 14th day, just get the remainder of N % 14 and loop over that amount starting with\n",
    "\n",
    "```\n",
    "[ 0, 0, 0, 0,  1, 1, 0, 0 ]\n",
    "```"
   ]
  },
  {
   "cell_type": "code",
   "execution_count": 21,
   "metadata": {},
   "outputs": [
    {
     "data": {
      "text/plain": [
       "6.0"
      ]
     },
     "execution_count": 21,
     "metadata": {},
     "output_type": "execute_result"
    }
   ],
   "source": [
    "1e9 % 14"
   ]
  },
  {
   "cell_type": "code",
   "execution_count": 25,
   "metadata": {},
   "outputs": [
    {
     "name": "stdout",
     "output_type": "stream",
     "text": [
      "[0, 0, 0, 0, 0, 0, 0, 0]\n"
     ]
    }
   ],
   "source": [
    "prison_size = len([0,1,0,1,1,0,0,1])\n",
    "answer = [0] * prison_size\n",
    "print(answer)"
   ]
  },
  {
   "cell_type": "code",
   "execution_count": 26,
   "metadata": {},
   "outputs": [],
   "source": [
    "#TODO: Implement solution with bitwise XOR"
   ]
  }
 ],
 "metadata": {
  "kernelspec": {
   "display_name": "Python 3",
   "language": "python",
   "name": "python3"
  },
  "language_info": {
   "codemirror_mode": {
    "name": "ipython",
    "version": 3
   },
   "file_extension": ".py",
   "mimetype": "text/x-python",
   "name": "python",
   "nbconvert_exporter": "python",
   "pygments_lexer": "ipython3",
   "version": "3.8.4"
  }
 },
 "nbformat": 4,
 "nbformat_minor": 4
}
