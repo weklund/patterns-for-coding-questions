{
 "cells": [
  {
   "cell_type": "markdown",
   "metadata": {},
   "source": [
    "# Plus One\n",
    "\n",
    "Given a non-empty array of digits representing a non-negative integer, increment one to the integer.\n",
    "\n",
    "The digits are stored such that the most significant digit is at the head of the list, and each element in the array contains a single digit.\n",
    "\n",
    "You may assume the integer does not contain any leading zero, except the number 0 itself."
   ]
  },
  {
   "cell_type": "markdown",
   "metadata": {},
   "source": [
    "## Example 1\n",
    "\n",
    "```\n",
    "Input: digits = [1,2,3]\n",
    "Output: [1,2,4]\n",
    "Explanation: The array represents the integer 123.\n",
    "```"
   ]
  },
  {
   "cell_type": "markdown",
   "metadata": {},
   "source": [
    "## Example 2\n",
    "\n",
    "```\n",
    "Input: digits = [4,3,2,1]\n",
    "Output: [4,3,2,2]\n",
    "Explanation: The array represents the integer 4321.\n",
    "```"
   ]
  },
  {
   "cell_type": "markdown",
   "metadata": {},
   "source": [
    "## Example 3\n",
    "\n",
    "```\n",
    "Input: digits = [1,2,9]\n",
    "Output: [1,3,0]\n",
    "Explanation: The array represents the integer 129.\n",
    "```"
   ]
  },
  {
   "cell_type": "markdown",
   "metadata": {},
   "source": [
    "```\n",
    "#### test case\n",
    "stack 1 2 9\n",
    "pop 9\n",
    "stack 1 2\n",
    "increment 2 to 3\n",
    "1 3\n",
    "add 0\n",
    "1 3 0\n",
    "\n",
    "for i in range(len(input) - 1, 0, -1):\n",
    "    (input[i] != 9) -> input[(i + 1) * -1)] += 1 then break\n",
    "    (input[i] == 9) -> input[i] = 0 then continue\n",
    "\n",
    "----\n",
    "\n",
    "#### test case\n",
    "stack 4 2 9 9\n",
    "(x == 9) -> pop 9\n",
    "(x != 9) -> x += 1\n",
    "pop 9\n",
    "stack 4 2 9\n",
    "pop 9 \n",
    "\n",
    "adding 0s where there were 9s\n",
    "\n",
    "\n",
    "\n",
    "```"
   ]
  }
 ],
 "metadata": {
  "kernelspec": {
   "display_name": "Python 3",
   "language": "python",
   "name": "python3"
  },
  "language_info": {
   "codemirror_mode": {
    "name": "ipython",
    "version": 3
   },
   "file_extension": ".py",
   "mimetype": "text/x-python",
   "name": "python",
   "nbconvert_exporter": "python",
   "pygments_lexer": "ipython3",
   "version": "3.8.4"
  }
 },
 "nbformat": 4,
 "nbformat_minor": 4
}
