{
 "cells": [
  {
   "cell_type": "markdown",
   "metadata": {},
   "source": [
    "# EPI 4.8 - Reverse String (Reverse Digit)\n",
    "\n",
    "Write a function that reverses a string.  The input string is a given as an array of characters\n",
    "\n",
    "Do not allocate extra space for another array, you must do this by modifying the input array in-place with O(1) extra memory.\n",
    "\n",
    "You may assume that all the characters consist of printable ascii characters.\n"
   ]
  },
  {
   "cell_type": "markdown",
   "metadata": {},
   "source": [
    "## Example 1\n",
    "\n",
    "```\n",
    "Input: [\"h\",\"e\",\"l\",\"l\",\"o\"]\n",
    "Output: [\"o\",\"l\",\"l\",\"e\",\"h\"]\n",
    "```"
   ]
  },
  {
   "cell_type": "markdown",
   "metadata": {},
   "source": [
    "## Example 2\n",
    "\n",
    "```\n",
    "Input: [\"H\",\"a\",\"n\",\"n\",\"a\",\"h\"]\n",
    "Output: [\"h\",\"a\",\"n\",\"n\",\"a\",\"H\"]\n",
    "```"
   ]
  },
  {
   "cell_type": "markdown",
   "metadata": {},
   "source": [
    "## My solution\n",
    "\n",
    "```\n",
    "\n",
    "Input: [\"h\",\"e\",\"l\",\"l\",\"o\"]\n",
    "Output: [\"o\",\"l\",\"l\",\"e\",\"h\"]\n",
    "\n",
    "[\"h\",\"e\",\"l\",\"l\"]\n",
    "[\"h\",\"e\",\"l\",\"l\",\"o\"]\n",
    "\n",
    "[ h  e  l  l  o ]\n",
    "  0  1  2  3  4  \n",
    "  -1 -2 -3 -4 -5\n",
    "  \n",
    "[ h  e  l  l  o ]\n",
    "\n",
    "(i == 0) -> [ o e l l h ]\n",
    "(i == 1) -> [ o l l e h ]\n",
    "\n",
    "-------\n",
    "\n",
    "\n",
    "Input: [\"H\",\"a\",\"n\",\"n\",\"a\",\"h\"]\n",
    "Output: [\"h\",\"a\",\"n\",\"n\",\"a\",\"H\"]\n",
    "\n",
    "[ H  a  n  n  a  h ]\n",
    "\n",
    "(i == 0) -> [h a n n a H]\n",
    "(i == 1) -> [h a n n a H]\n",
    "(i == 2) -> [h a n n a H]\n",
    "\n",
    "swap_times = int(len(input) / 2)\n",
    "\n",
    "for i in range(swap_times - 1):\n",
    "    reverse_index = (i + 1) * -1\n",
    "    old_i_value = input[i]\n",
    "    \n",
    "    input[i] = input[reverse_index]\n",
    "    input[reverse_index] = old_i_value\n",
    "   \n",
    "```"
   ]
  },
  {
   "cell_type": "code",
   "execution_count": 27,
   "metadata": {},
   "outputs": [],
   "source": [
    "def reverseString(input_string):\n",
    "    swap_times = len(input_string) // 2\n",
    "    \n",
    "    for i in range(0, swap_times):\n",
    "\n",
    "        reverse_index = (i + 1) * -1\n",
    "        old_i_value = input_string[i]\n",
    "\n",
    "        input_string[i] = input_string[reverse_index]\n",
    "        input_string[reverse_index] = old_i_value\n",
    "    return input_string"
   ]
  },
  {
   "cell_type": "code",
   "execution_count": 28,
   "metadata": {},
   "outputs": [
    {
     "name": "stdout",
     "output_type": "stream",
     "text": [
      "['o', 'l', 'l', 'e', 'h']\n",
      "['h', 'a', 'n', 'n', 'a', 'H']\n"
     ]
    }
   ],
   "source": [
    "print(reverseString([\"h\",\"e\",\"l\",\"l\",\"o\"]))\n",
    "print(reverseString([\"H\",\"a\",\"n\",\"n\",\"a\",\"h\"]))"
   ]
  },
  {
   "cell_type": "markdown",
   "metadata": {},
   "source": [
    "### This is the optimal solution"
   ]
  },
  {
   "cell_type": "markdown",
   "metadata": {},
   "source": []
  }
 ],
 "metadata": {
  "kernelspec": {
   "display_name": "Python 3",
   "language": "python",
   "name": "python3"
  },
  "language_info": {
   "codemirror_mode": {
    "name": "ipython",
    "version": 3
   },
   "file_extension": ".py",
   "mimetype": "text/x-python",
   "name": "python",
   "nbconvert_exporter": "python",
   "pygments_lexer": "ipython3",
   "version": "3.8.4"
  }
 },
 "nbformat": 4,
 "nbformat_minor": 4
}
